{
 "cells": [
  {
   "cell_type": "code",
   "execution_count": null,
   "id": "8d263f38",
   "metadata": {},
   "outputs": [],
   "source": [
    "import math as m\n",
    "import random as rd\n",
    "import matplotlib.pyplot as plt"
   ]
  },
  {
   "cell_type": "code",
   "execution_count": null,
   "id": "ee399949",
   "metadata": {},
   "outputs": [],
   "source": [
    "c_centre = [1, 1]\n",
    "rayon = 1.0\n",
    "\n",
    "# Aires théoriques (cercle unité dans carré 2x2)\n",
    "s_cercle = m.pi\n",
    "s_out = 4 - m.pi\n",
    "s_ratio = round(s_cercle / s_out, 4)\n",
    "print(\"ratio théorique s_cercle/s_out =\", s_ratio)"
   ]
  },
  {
   "cell_type": "code",
   "execution_count": null,
   "id": "853500be",
   "metadata": {},
   "outputs": [],
   "source": [
    "while True:\n",
    "    try:\n",
    "        d = int(input(\"Nombre de points (entier) : \"))\n",
    "        if d <= 0:\n",
    "            print(\"Donne un entier > 0.\")\n",
    "            continue\n",
    "        break\n",
    "    except ValueError:\n",
    "        print(\"Entrée invalide. Donne un entier.\")"
   ]
  },
  {
   "cell_type": "code",
   "execution_count": null,
   "id": "63c7841b",
   "metadata": {},
   "outputs": [],
   "source": [
    "xs_in, ys_in = [], []\n",
    "xs_out, ys_out = [], []\n",
    "\n",
    "n_in = 0\n",
    "for _ in range(d):\n",
    "    x = rd.uniform(0, 2)\n",
    "    y = rd.uniform(0, 2)\n",
    "    if (x - c_centre[0]) ** 2 + (y - c_centre[1]) ** 2 <= rayon ** 2:\n",
    "        n_in += 1\n",
    "        xs_in.append(x)\n",
    "        ys_in.append(y)\n",
    "    else:\n",
    "        xs_out.append(x)\n",
    "        ys_out.append(y)\n",
    "\n",
    "n_out = d - n_in\n",
    "print(\"n_in  =\", n_in)\n",
    "print(\"n_out =\", n_out)\n",
    "\n",
    "# Ratio Monte Carlo\n",
    "if n_out > 0:\n",
    "    n_ratio = round(n_in / n_out, 4)\n",
    "    print(\"ratio expérimental n_in/n_out =\", n_ratio)\n",
    "else:\n",
    "    print(\"Tous les points sont dans le cercle. ratio n_in/n_out non défini.\")"
   ]
  },
  {
   "cell_type": "code",
   "execution_count": null,
   "id": "09619aff",
   "metadata": {},
   "outputs": [],
   "source": [
    "fig = plt.figure(figsize=(6, 6))\n",
    "\n",
    "# Points\n",
    "plt.scatter(xs_out, ys_out, s=10, label=\"Points hors cercle\")\n",
    "plt.scatter(xs_in, ys_in, s=10, label=\"Points dans le cercle\")\n",
    "\n",
    "# Cercle\n",
    "theta = [t * m.tau / 360 for t in range(361)]\n",
    "xc = [c_centre[0] + rayon * m.cos(t) for t in theta]\n",
    "yc = [c_centre[1] + rayon * m.sin(t) for t in theta]\n",
    "plt.plot(xc, yc, linewidth=2, label=\"Cercle (r=1)\")\n",
    "\n",
    "# Carré englobant [0,2]x[0,2]\n",
    "plt.plot([0, 2, 2, 0, 0], [0, 0, 2, 2, 0], linewidth=2, label=\"Carré 2x2\")\n",
    "\n",
    "plt.xlim(0, 2)\n",
    "plt.ylim(0, 2)\n",
    "plt.gca().set_aspect(\"equal\", adjustable=\"box\")\n",
    "plt.grid(True, linewidth=0.5, alpha=0.5)\n",
    "plt.legend()\n",
    "plt.title(f\"Points dans le cercle vs carré — d={d}, n_in={n_in}, n_out={n_out}\")\n",
    "\n",
    "plt.show()"
   ]
  }
 ],
 "metadata": {},
 "nbformat": 4,
 "nbformat_minor": 5
}
